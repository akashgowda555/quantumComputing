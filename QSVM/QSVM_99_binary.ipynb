{
 "cells": [
  {
   "cell_type": "code",
   "execution_count": 1,
   "metadata": {},
   "outputs": [],
   "source": [
    "import numpy as np\n",
    "import scipy\n",
    "from scipy.linalg import expm\n",
    "import matplotlib.pyplot as plt\n",
    "from mpl_toolkits.mplot3d import Axes3D\n",
    "from sklearn import datasets\n",
    "from sklearn.model_selection import train_test_split\n",
    "from sklearn.preprocessing import StandardScaler, MinMaxScaler\n",
    "from sklearn.decomposition import PCA"
   ]
  },
  {
   "cell_type": "code",
   "execution_count": 2,
   "metadata": {},
   "outputs": [],
   "source": [
    "import pandas as pd\n",
    "\n",
    "def SSDP_DDoS(training_size, test_size, n, PLOT_DATA=True):\n",
    "    class_labels = [r'BENING', r'DrDoS_SSDP']\n",
    "    \n",
    "    data = pd.read_csv('../NewDataset/output_file.csv', engine=\"python\")\n",
    "\n",
    "    data = data.replace(\"BENIGN\", 0)\n",
    "    data = data.replace(\"DDoS\", 1)\n",
    "    data = data[np.isfinite(data).all(1)]\n",
    "    data = data.iloc[4000:5100]\n",
    "    data = data[[\" Flow Duration\", \" Average Packet Size\", \"Active Mean\",\" Label\"]]    \n",
    "    y = np.array(data[' Label'])\n",
    "    data = data.drop(columns=[' Label'])\n",
    "    x = StandardScaler().fit_transform(np.array(data))\n",
    "    X_train, X_test, Y_train, Y_test = train_test_split(x, y, stratify=y, test_size=0.3, random_state=109)\n",
    "   \n",
    "    pca = PCA(n_components=n).fit(X_train)\n",
    "    X_train = pca.transform(X_train)\n",
    "    X_test = pca.transform(X_test)\n",
    "   \n",
    "    samples = np.append(X_train, X_test, axis=0)\n",
    "    minmax_scale = MinMaxScaler((-1, 1)).fit(samples)\n",
    "    X_train = minmax_scale.transform(X_train)\n",
    "    X_test = minmax_scale.transform(X_test)\n",
    "\n",
    "    training_input = {key: (X_train[Y_train == k, :])[:training_size] for k, key in enumerate(class_labels)}\n",
    "    test_input = {key: (X_test[Y_test == k, :])[:test_size] for k, key in enumerate(class_labels)}\n",
    "    \n",
    "    if PLOT_DATA:\n",
    "        for k in range(0, 2):\n",
    "            x_axis_data = X_train[Y_train == k, 0][:training_size]\n",
    "            y_axis_data = X_train[Y_train == k, 1][:training_size]\n",
    "            label = 'DDoS' if k == 1 else 'BENIGN'\n",
    "            plt.scatter(x_axis_data, y_axis_data, label=label)\n",
    "\n",
    "        plt.title(\"DDoS_SSDP Dataset (Dimensionality Reduced With PCA)\")\n",
    "        plt.legend()\n",
    "        plt.show()\n",
    "        \n",
    "\n",
    "    return X_train, Y_train, X_test, Y_test, test_input, class_labels"
   ]
  },
  {
   "cell_type": "code",
   "execution_count": 3,
   "metadata": {},
   "outputs": [],
   "source": [
    "import operator\n",
    "\n",
    "def split_dataset_to_data_and_labels(dataset, class_names=None):\n",
    "    data = []\n",
    "    labels = []\n",
    "    if class_names is None:\n",
    "        sorted_classes_name = sorted(list(dataset.keys()))\n",
    "        class_to_label = {k: idx for idx, k in enumerate(sorted_classes_name)}\n",
    "    else:\n",
    "        class_to_label = class_names\n",
    "    sorted_label = sorted(class_to_label.items(), key=operator.itemgetter(1))\n",
    "    for class_name, _ in sorted_label:\n",
    "        values = dataset[class_name]\n",
    "        for value in values:\n",
    "            data.append(value)\n",
    "            try:\n",
    "                labels.append(class_to_label[class_name])\n",
    "            except Exception as ex:  # pylint: disable=broad-except\n",
    "                raise KeyError('The dataset has different class names to '\n",
    "                               'the training data. error message: {}'.format(ex)) from ex\n",
    "    data = np.asarray(data)\n",
    "    labels = np.asarray(labels)\n",
    "    if class_names is None:\n",
    "        return [data, labels], class_to_label\n",
    "    else:\n",
    "        return [data, labels]"
   ]
  },
  {
   "cell_type": "code",
   "execution_count": 4,
   "metadata": {
    "scrolled": true
   },
   "outputs": [
    {
     "data": {
      "image/png": "[encoded data removed]",
      "text/plain": [
       "<Figure size 640x480 with 1 Axes>"
      ]
     },
     "metadata": {},
     "output_type": "display_data"
    }
   ],
   "source": [
    "n = 3 # How many features to use (dimensionality)\n",
    "training_dataset_size = int(20*0.8)\n",
    "testing_dataset_size = int(20*0.2)\n",
    "\n",
    "X_train, Y_train, X_test, Y_test, test_input, class_labels = SSDP_DDoS(training_dataset_size, testing_dataset_size, n)\n",
    "datapoints, class_to_label = split_dataset_to_data_and_labels(test_input)"
   ]
  },
  {
   "cell_type": "code",
   "execution_count": 5,
   "metadata": {},
   "outputs": [
    {
     "name": "stderr",
     "output_type": "stream",
     "text": [
      "/tmp/ipykernel_130252/960988628.py:5: DeprecationWarning: ``qiskit.algorithms`` has been migrated to an independent package: https://github.com/qiskit-community/qiskit-algorithms. The ``qiskit.algorithms`` import path is deprecated as of qiskit-terra 0.25.0 and will be removed no earlier than 3 months after the release date. Please run ``pip install qiskit_algorithms`` and use ``import qiskit_algorithms`` instead.\n",
      "  from qiskit.algorithms.state_fidelities import ComputeUncompute\n"
     ]
    },
    {
     "name": "stdout",
     "output_type": "stream",
     "text": [
      "Callable kernel classification test score: 0.9916666666666667\n"
     ]
    }
   ],
   "source": [
    "from qiskit import BasicAer\n",
    "from qiskit.utils import QuantumInstance\n",
    "from qiskit.circuit.library import ZZFeatureMap\n",
    "from qiskit.primitives import Sampler\n",
    "from qiskit.algorithms.state_fidelities import ComputeUncompute\n",
    "from qiskit_machine_learning.kernels import FidelityQuantumKernel\n",
    "from sklearn.svm import SVC\n",
    "\n",
    "adhoc_feature_map = ZZFeatureMap(feature_dimension=3, reps=3, entanglement=\"linear\")\n",
    "sampler = Sampler()\n",
    "fidelity = ComputeUncompute(sampler=sampler)\n",
    "adhoc_kernel = FidelityQuantumKernel(fidelity=fidelity, feature_map=adhoc_feature_map)\n",
    "\n",
    "seed = 10598\n",
    "\n",
    "adhoc_svc = SVC(kernel=adhoc_kernel.evaluate)\n",
    "adhoc_svc.fit(X_train, Y_train)\n",
    "adhoc_score_callable_function = adhoc_svc.score(X_test, Y_test)\n",
    "print(f\"Callable kernel classification test score: {adhoc_score_callable_function}\")"
   ]
  }
 ],
 "metadata": {
  "kernelspec": {
   "display_name": "3.10",
   "language": "python",
   "name": "3.10"
  },
  "language_info": {
   "codemirror_mode": {
    "name": "ipython",
    "version": 3
   },
   "file_extension": ".py",
   "mimetype": "text/x-python",
   "name": "python",
   "nbconvert_exporter": "python",
   "pygments_lexer": "ipython3",
   "version": "3.10.12"
  }
 },
 "nbformat": 4,
 "nbformat_minor": 4
}
